{
  "nbformat": 4,
  "nbformat_minor": 0,
  "metadata": {
    "colab": {
      "name": "tensorflow-tutorial.ipynb",
      "provenance": [],
      "authorship_tag": "ABX9TyNPqNKvVHkzyWScPAOWZFAG",
      "include_colab_link": true
    },
    "kernelspec": {
      "name": "python3",
      "display_name": "Python 3"
    },
    "accelerator": "GPU"
  },
  "cells": [
    {
      "cell_type": "markdown",
      "metadata": {
        "id": "view-in-github",
        "colab_type": "text"
      },
      "source": [
        "<a href=\"https://colab.research.google.com/github/taku369/tf-tutorial-2/blob/master/tensorflow_tutorial.ipynb\" target=\"_parent\"><img src=\"https://colab.research.google.com/assets/colab-badge.svg\" alt=\"Open In Colab\"/></a>"
      ]
    },
    {
      "cell_type": "code",
      "metadata": {
        "id": "Wnp_aFN5mzKQ",
        "colab_type": "code",
        "colab": {}
      },
      "source": [
        "import tensorflow as tf\n",
        "import pandas as pd"
      ],
      "execution_count": null,
      "outputs": []
    },
    {
      "cell_type": "code",
      "metadata": {
        "id": "9AECusw_oJJa",
        "colab_type": "code",
        "colab": {}
      },
      "source": [
        "CSV_COLUMN_NAMES = ['SepalLength', 'SepalWidth', 'PetalLength', 'PetalWidth', 'Species']\n",
        "SPECIES = ['Setosa', 'Versicolor', 'Virginica']"
      ],
      "execution_count": null,
      "outputs": []
    },
    {
      "cell_type": "code",
      "metadata": {
        "id": "g9avByMspqIx",
        "colab_type": "code",
        "colab": {
          "base_uri": "https://localhost:8080/",
          "height": 105
        },
        "outputId": "366aecf0-d48d-4141-b10d-ebc886758372"
      },
      "source": [
        "train_path = tf.keras.utils.get_file(\n",
        "    \"iris_training.csv\", \"https://storage.googleapis.com/download.tensorflow.org/data/iris_training.csv\")\n",
        "test_path = tf.keras.utils.get_file(\n",
        "    \"iris_test.csv\", \"https://storage.googleapis.com/download.tensorflow.org/data/iris_test.csv\")\n",
        "\n",
        "train = pd.read_csv(train_path, names=CSV_COLUMN_NAMES, header=0)\n",
        "test = pd.read_csv(test_path, names=CSV_COLUMN_NAMES, header=0)"
      ],
      "execution_count": null,
      "outputs": [
        {
          "output_type": "stream",
          "text": [
            "Downloading data from https://storage.googleapis.com/download.tensorflow.org/data/iris_training.csv\n",
            "8192/2194 [================================================================================================================] - 0s 0us/step\n",
            "Downloading data from https://storage.googleapis.com/download.tensorflow.org/data/iris_test.csv\n",
            "8192/573 [============================================================================================================================================================================================================================================================================================================================================================================================================================================] - 0s 0us/step\n"
          ],
          "name": "stdout"
        }
      ]
    },
    {
      "cell_type": "code",
      "metadata": {
        "id": "bz6CSomrp7wK",
        "colab_type": "code",
        "colab": {
          "base_uri": "https://localhost:8080/",
          "height": 204
        },
        "outputId": "8f5a659d-89a2-4391-a408-db4aa26f1602"
      },
      "source": [
        "train.head()"
      ],
      "execution_count": null,
      "outputs": [
        {
          "output_type": "execute_result",
          "data": {
            "text/html": [
              "<div>\n",
              "<style scoped>\n",
              "    .dataframe tbody tr th:only-of-type {\n",
              "        vertical-align: middle;\n",
              "    }\n",
              "\n",
              "    .dataframe tbody tr th {\n",
              "        vertical-align: top;\n",
              "    }\n",
              "\n",
              "    .dataframe thead th {\n",
              "        text-align: right;\n",
              "    }\n",
              "</style>\n",
              "<table border=\"1\" class=\"dataframe\">\n",
              "  <thead>\n",
              "    <tr style=\"text-align: right;\">\n",
              "      <th></th>\n",
              "      <th>SepalLength</th>\n",
              "      <th>SepalWidth</th>\n",
              "      <th>PetalLength</th>\n",
              "      <th>PetalWidth</th>\n",
              "      <th>Species</th>\n",
              "    </tr>\n",
              "  </thead>\n",
              "  <tbody>\n",
              "    <tr>\n",
              "      <th>0</th>\n",
              "      <td>6.4</td>\n",
              "      <td>2.8</td>\n",
              "      <td>5.6</td>\n",
              "      <td>2.2</td>\n",
              "      <td>2</td>\n",
              "    </tr>\n",
              "    <tr>\n",
              "      <th>1</th>\n",
              "      <td>5.0</td>\n",
              "      <td>2.3</td>\n",
              "      <td>3.3</td>\n",
              "      <td>1.0</td>\n",
              "      <td>1</td>\n",
              "    </tr>\n",
              "    <tr>\n",
              "      <th>2</th>\n",
              "      <td>4.9</td>\n",
              "      <td>2.5</td>\n",
              "      <td>4.5</td>\n",
              "      <td>1.7</td>\n",
              "      <td>2</td>\n",
              "    </tr>\n",
              "    <tr>\n",
              "      <th>3</th>\n",
              "      <td>4.9</td>\n",
              "      <td>3.1</td>\n",
              "      <td>1.5</td>\n",
              "      <td>0.1</td>\n",
              "      <td>0</td>\n",
              "    </tr>\n",
              "    <tr>\n",
              "      <th>4</th>\n",
              "      <td>5.7</td>\n",
              "      <td>3.8</td>\n",
              "      <td>1.7</td>\n",
              "      <td>0.3</td>\n",
              "      <td>0</td>\n",
              "    </tr>\n",
              "  </tbody>\n",
              "</table>\n",
              "</div>"
            ],
            "text/plain": [
              "   SepalLength  SepalWidth  PetalLength  PetalWidth  Species\n",
              "0          6.4         2.8          5.6         2.2        2\n",
              "1          5.0         2.3          3.3         1.0        1\n",
              "2          4.9         2.5          4.5         1.7        2\n",
              "3          4.9         3.1          1.5         0.1        0\n",
              "4          5.7         3.8          1.7         0.3        0"
            ]
          },
          "metadata": {
            "tags": []
          },
          "execution_count": 11
        }
      ]
    },
    {
      "cell_type": "code",
      "metadata": {
        "id": "ycG9Ja5KqABq",
        "colab_type": "code",
        "colab": {
          "base_uri": "https://localhost:8080/",
          "height": 204
        },
        "outputId": "e4dbe9ab-ce4f-46ec-f33b-ffbf3a972268"
      },
      "source": [
        "train_y = train.pop('Species')\n",
        "test_y = test.pop('Species')\n",
        "train.head()"
      ],
      "execution_count": null,
      "outputs": [
        {
          "output_type": "execute_result",
          "data": {
            "text/html": [
              "<div>\n",
              "<style scoped>\n",
              "    .dataframe tbody tr th:only-of-type {\n",
              "        vertical-align: middle;\n",
              "    }\n",
              "\n",
              "    .dataframe tbody tr th {\n",
              "        vertical-align: top;\n",
              "    }\n",
              "\n",
              "    .dataframe thead th {\n",
              "        text-align: right;\n",
              "    }\n",
              "</style>\n",
              "<table border=\"1\" class=\"dataframe\">\n",
              "  <thead>\n",
              "    <tr style=\"text-align: right;\">\n",
              "      <th></th>\n",
              "      <th>SepalLength</th>\n",
              "      <th>SepalWidth</th>\n",
              "      <th>PetalLength</th>\n",
              "      <th>PetalWidth</th>\n",
              "    </tr>\n",
              "  </thead>\n",
              "  <tbody>\n",
              "    <tr>\n",
              "      <th>0</th>\n",
              "      <td>6.4</td>\n",
              "      <td>2.8</td>\n",
              "      <td>5.6</td>\n",
              "      <td>2.2</td>\n",
              "    </tr>\n",
              "    <tr>\n",
              "      <th>1</th>\n",
              "      <td>5.0</td>\n",
              "      <td>2.3</td>\n",
              "      <td>3.3</td>\n",
              "      <td>1.0</td>\n",
              "    </tr>\n",
              "    <tr>\n",
              "      <th>2</th>\n",
              "      <td>4.9</td>\n",
              "      <td>2.5</td>\n",
              "      <td>4.5</td>\n",
              "      <td>1.7</td>\n",
              "    </tr>\n",
              "    <tr>\n",
              "      <th>3</th>\n",
              "      <td>4.9</td>\n",
              "      <td>3.1</td>\n",
              "      <td>1.5</td>\n",
              "      <td>0.1</td>\n",
              "    </tr>\n",
              "    <tr>\n",
              "      <th>4</th>\n",
              "      <td>5.7</td>\n",
              "      <td>3.8</td>\n",
              "      <td>1.7</td>\n",
              "      <td>0.3</td>\n",
              "    </tr>\n",
              "  </tbody>\n",
              "</table>\n",
              "</div>"
            ],
            "text/plain": [
              "   SepalLength  SepalWidth  PetalLength  PetalWidth\n",
              "0          6.4         2.8          5.6         2.2\n",
              "1          5.0         2.3          3.3         1.0\n",
              "2          4.9         2.5          4.5         1.7\n",
              "3          4.9         3.1          1.5         0.1\n",
              "4          5.7         3.8          1.7         0.3"
            ]
          },
          "metadata": {
            "tags": []
          },
          "execution_count": 15
        }
      ]
    },
    {
      "cell_type": "code",
      "metadata": {
        "id": "l4bAVSmXmAnD",
        "colab_type": "code",
        "colab": {
          "base_uri": "https://localhost:8080/",
          "height": 241
        },
        "outputId": "c91ec38d-611e-4bcd-e196-21ae47e96d1f"
      },
      "source": [
        "ds_tensors = tf.data.Dataset.from_tensor_slices((dict(train), train_y))\n",
        "for i, x in enumerate(ds_tensors):\n",
        "  print(x)\n",
        "  if i > 10:\n",
        "    break"
      ],
      "execution_count": null,
      "outputs": [
        {
          "output_type": "stream",
          "text": [
            "({'SepalLength': <tf.Tensor: shape=(), dtype=float64, numpy=6.4>, 'SepalWidth': <tf.Tensor: shape=(), dtype=float64, numpy=2.8>, 'PetalLength': <tf.Tensor: shape=(), dtype=float64, numpy=5.6>, 'PetalWidth': <tf.Tensor: shape=(), dtype=float64, numpy=2.2>}, <tf.Tensor: shape=(), dtype=int64, numpy=2>)\n",
            "({'SepalLength': <tf.Tensor: shape=(), dtype=float64, numpy=5.0>, 'SepalWidth': <tf.Tensor: shape=(), dtype=float64, numpy=2.3>, 'PetalLength': <tf.Tensor: shape=(), dtype=float64, numpy=3.3>, 'PetalWidth': <tf.Tensor: shape=(), dtype=float64, numpy=1.0>}, <tf.Tensor: shape=(), dtype=int64, numpy=1>)\n",
            "({'SepalLength': <tf.Tensor: shape=(), dtype=float64, numpy=4.9>, 'SepalWidth': <tf.Tensor: shape=(), dtype=float64, numpy=2.5>, 'PetalLength': <tf.Tensor: shape=(), dtype=float64, numpy=4.5>, 'PetalWidth': <tf.Tensor: shape=(), dtype=float64, numpy=1.7>}, <tf.Tensor: shape=(), dtype=int64, numpy=2>)\n",
            "({'SepalLength': <tf.Tensor: shape=(), dtype=float64, numpy=4.9>, 'SepalWidth': <tf.Tensor: shape=(), dtype=float64, numpy=3.1>, 'PetalLength': <tf.Tensor: shape=(), dtype=float64, numpy=1.5>, 'PetalWidth': <tf.Tensor: shape=(), dtype=float64, numpy=0.1>}, <tf.Tensor: shape=(), dtype=int64, numpy=0>)\n",
            "({'SepalLength': <tf.Tensor: shape=(), dtype=float64, numpy=5.7>, 'SepalWidth': <tf.Tensor: shape=(), dtype=float64, numpy=3.8>, 'PetalLength': <tf.Tensor: shape=(), dtype=float64, numpy=1.7>, 'PetalWidth': <tf.Tensor: shape=(), dtype=float64, numpy=0.3>}, <tf.Tensor: shape=(), dtype=int64, numpy=0>)\n",
            "({'SepalLength': <tf.Tensor: shape=(), dtype=float64, numpy=4.4>, 'SepalWidth': <tf.Tensor: shape=(), dtype=float64, numpy=3.2>, 'PetalLength': <tf.Tensor: shape=(), dtype=float64, numpy=1.3>, 'PetalWidth': <tf.Tensor: shape=(), dtype=float64, numpy=0.2>}, <tf.Tensor: shape=(), dtype=int64, numpy=0>)\n",
            "({'SepalLength': <tf.Tensor: shape=(), dtype=float64, numpy=5.4>, 'SepalWidth': <tf.Tensor: shape=(), dtype=float64, numpy=3.4>, 'PetalLength': <tf.Tensor: shape=(), dtype=float64, numpy=1.5>, 'PetalWidth': <tf.Tensor: shape=(), dtype=float64, numpy=0.4>}, <tf.Tensor: shape=(), dtype=int64, numpy=0>)\n",
            "({'SepalLength': <tf.Tensor: shape=(), dtype=float64, numpy=6.9>, 'SepalWidth': <tf.Tensor: shape=(), dtype=float64, numpy=3.1>, 'PetalLength': <tf.Tensor: shape=(), dtype=float64, numpy=5.1>, 'PetalWidth': <tf.Tensor: shape=(), dtype=float64, numpy=2.3>}, <tf.Tensor: shape=(), dtype=int64, numpy=2>)\n",
            "({'SepalLength': <tf.Tensor: shape=(), dtype=float64, numpy=6.7>, 'SepalWidth': <tf.Tensor: shape=(), dtype=float64, numpy=3.1>, 'PetalLength': <tf.Tensor: shape=(), dtype=float64, numpy=4.4>, 'PetalWidth': <tf.Tensor: shape=(), dtype=float64, numpy=1.4>}, <tf.Tensor: shape=(), dtype=int64, numpy=1>)\n",
            "({'SepalLength': <tf.Tensor: shape=(), dtype=float64, numpy=5.1>, 'SepalWidth': <tf.Tensor: shape=(), dtype=float64, numpy=3.7>, 'PetalLength': <tf.Tensor: shape=(), dtype=float64, numpy=1.5>, 'PetalWidth': <tf.Tensor: shape=(), dtype=float64, numpy=0.4>}, <tf.Tensor: shape=(), dtype=int64, numpy=0>)\n",
            "({'SepalLength': <tf.Tensor: shape=(), dtype=float64, numpy=5.2>, 'SepalWidth': <tf.Tensor: shape=(), dtype=float64, numpy=2.7>, 'PetalLength': <tf.Tensor: shape=(), dtype=float64, numpy=3.9>, 'PetalWidth': <tf.Tensor: shape=(), dtype=float64, numpy=1.4>}, <tf.Tensor: shape=(), dtype=int64, numpy=1>)\n",
            "({'SepalLength': <tf.Tensor: shape=(), dtype=float64, numpy=6.9>, 'SepalWidth': <tf.Tensor: shape=(), dtype=float64, numpy=3.1>, 'PetalLength': <tf.Tensor: shape=(), dtype=float64, numpy=4.9>, 'PetalWidth': <tf.Tensor: shape=(), dtype=float64, numpy=1.5>}, <tf.Tensor: shape=(), dtype=int64, numpy=1>)\n"
          ],
          "name": "stdout"
        }
      ]
    },
    {
      "cell_type": "code",
      "metadata": {
        "id": "t4RcEnFFqKkD",
        "colab_type": "code",
        "colab": {}
      },
      "source": [
        "# Create input functions\n",
        "def input_fn(features, labels, training=True, batch_size=256):\n",
        "    \"\"\"An input function for training or evaluating\n",
        "    pytorchのdatasetのgetitemに相当\n",
        "    featuresはpd.series (dataframeの行)\n",
        "    labelsは？\n",
        "    \"\"\"\n",
        "    # Convert the inputs to a Dataset.\n",
        "    dataset = tf.data.Dataset.from_tensor_slices((dict(features), labels))\n",
        "\n",
        "    # Shuffle and repeat if you are in training mode.\n",
        "    if training:\n",
        "        dataset = dataset.shuffle(1000).repeat()\n",
        "    \n",
        "    return dataset.batch(batch_size)  # これもdataset型"
      ],
      "execution_count": null,
      "outputs": []
    },
    {
      "cell_type": "code",
      "metadata": {
        "id": "rDVFAZhksopf",
        "colab_type": "code",
        "colab": {
          "base_uri": "https://localhost:8080/",
          "height": 34
        },
        "outputId": "61c89b62-8f50-4be2-da21-ef6f4e4e3458"
      },
      "source": [
        "# Define the feature columns\n",
        "print(train.keys())\n",
        "my_feature_columns = []\n",
        "for key in train.keys():\n",
        "    my_feature_columns.append(tf.feature_column.numeric_column(key=key))"
      ],
      "execution_count": null,
      "outputs": [
        {
          "output_type": "stream",
          "text": [
            "Index(['SepalLength', 'SepalWidth', 'PetalLength', 'PetalWidth'], dtype='object')\n"
          ],
          "name": "stdout"
        }
      ]
    },
    {
      "cell_type": "code",
      "metadata": {
        "id": "aujQLjtftJrV",
        "colab_type": "code",
        "colab": {
          "base_uri": "https://localhost:8080/",
          "height": 190
        },
        "outputId": "d2ee4a95-919f-4d40-b6dc-fd2edc0161c5"
      },
      "source": [
        "# Instantiate an estimator\n",
        "# Build a DNN with 2 hidden layers with 30 and 10 hidden nodes each.\n",
        "classifier = tf.estimator.DNNClassifier(\n",
        "    feature_columns=my_feature_columns,\n",
        "    # Two hidden layers of 30 and 10 nodes respectively.\n",
        "    hidden_units=[30, 10],\n",
        "    # The model must choose between 3 classes.\n",
        "    n_classes=3)"
      ],
      "execution_count": null,
      "outputs": [
        {
          "output_type": "stream",
          "text": [
            "INFO:tensorflow:Using default config.\n",
            "WARNING:tensorflow:Using temporary folder as model directory: /tmp/tmpeomf7_uh\n",
            "INFO:tensorflow:Using config: {'_model_dir': '/tmp/tmpeomf7_uh', '_tf_random_seed': None, '_save_summary_steps': 100, '_save_checkpoints_steps': None, '_save_checkpoints_secs': 600, '_session_config': allow_soft_placement: true\n",
            "graph_options {\n",
            "  rewrite_options {\n",
            "    meta_optimizer_iterations: ONE\n",
            "  }\n",
            "}\n",
            ", '_keep_checkpoint_max': 5, '_keep_checkpoint_every_n_hours': 10000, '_log_step_count_steps': 100, '_train_distribute': None, '_device_fn': None, '_protocol': None, '_eval_distribute': None, '_experimental_distribute': None, '_experimental_max_worker_delay_secs': None, '_session_creation_timeout_secs': 7200, '_service': None, '_cluster_spec': ClusterSpec({}), '_task_type': 'worker', '_task_id': 0, '_global_id_in_cluster': 0, '_master': '', '_evaluation_master': '', '_is_chief': True, '_num_ps_replicas': 0, '_num_worker_replicas': 1}\n"
          ],
          "name": "stdout"
        }
      ]
    },
    {
      "cell_type": "code",
      "metadata": {
        "id": "WJKu7L9_tX14",
        "colab_type": "code",
        "colab": {
          "base_uri": "https://localhost:8080/",
          "height": 1000
        },
        "outputId": "f51374c1-af49-4546-8dce-299e8f0b803e"
      },
      "source": [
        "classifier.train(\n",
        "    input_fn=lambda: input_fn(train, train_y, training=True),  # ?? なぜlambda？->引数を指定できないから\n",
        "    steps=5000)\n",
        "# tmpに結果を保存"
      ],
      "execution_count": null,
      "outputs": [
        {
          "output_type": "stream",
          "text": [
            "WARNING:tensorflow:From /usr/local/lib/python3.6/dist-packages/tensorflow/python/ops/resource_variable_ops.py:1666: calling BaseResourceVariable.__init__ (from tensorflow.python.ops.resource_variable_ops) with constraint is deprecated and will be removed in a future version.\n",
            "Instructions for updating:\n",
            "If using Keras pass *_constraint arguments to layers.\n",
            "WARNING:tensorflow:From /usr/local/lib/python3.6/dist-packages/tensorflow/python/training/training_util.py:236: Variable.initialized_value (from tensorflow.python.ops.variables) is deprecated and will be removed in a future version.\n",
            "Instructions for updating:\n",
            "Use Variable.read_value. Variables in 2.X are initialized automatically both in eager and graph (inside tf.defun) contexts.\n",
            "INFO:tensorflow:Calling model_fn.\n",
            "WARNING:tensorflow:Layer dnn is casting an input tensor from dtype float64 to the layer's dtype of float32, which is new behavior in TensorFlow 2.  The layer has dtype float32 because it's dtype defaults to floatx.\n",
            "\n",
            "If you intended to run this layer in float32, you can safely ignore this warning. If in doubt, this warning is likely only an issue if you are porting a TensorFlow 1.X model to TensorFlow 2.\n",
            "\n",
            "To change all layers to have dtype float64 by default, call `tf.keras.backend.set_floatx('float64')`. To change just this layer, pass dtype='float64' to the layer constructor. If you are the author of this layer, you can disable autocasting by passing autocast=False to the base Layer constructor.\n",
            "\n",
            "WARNING:tensorflow:From /usr/local/lib/python3.6/dist-packages/tensorflow/python/keras/optimizer_v2/adagrad.py:106: calling Constant.__init__ (from tensorflow.python.ops.init_ops) with dtype is deprecated and will be removed in a future version.\n",
            "Instructions for updating:\n",
            "Call initializer instance with the dtype argument instead of passing it to the constructor\n",
            "INFO:tensorflow:Done calling model_fn.\n",
            "INFO:tensorflow:Create CheckpointSaverHook.\n",
            "INFO:tensorflow:Graph was finalized.\n",
            "INFO:tensorflow:Running local_init_op.\n",
            "INFO:tensorflow:Done running local_init_op.\n",
            "INFO:tensorflow:Calling checkpoint listeners before saving checkpoint 0...\n",
            "INFO:tensorflow:Saving checkpoints for 0 into /tmp/tmpeomf7_uh/model.ckpt.\n",
            "INFO:tensorflow:Calling checkpoint listeners after saving checkpoint 0...\n",
            "INFO:tensorflow:loss = 3.6145642, step = 0\n",
            "INFO:tensorflow:global_step/sec: 245.496\n",
            "INFO:tensorflow:loss = 1.6245981, step = 100 (0.409 sec)\n",
            "INFO:tensorflow:global_step/sec: 288.41\n",
            "INFO:tensorflow:loss = 1.3053088, step = 200 (0.348 sec)\n",
            "INFO:tensorflow:global_step/sec: 272.047\n",
            "INFO:tensorflow:loss = 1.1483622, step = 300 (0.366 sec)\n",
            "INFO:tensorflow:global_step/sec: 272.048\n",
            "INFO:tensorflow:loss = 1.1036621, step = 400 (0.370 sec)\n",
            "INFO:tensorflow:global_step/sec: 308.797\n",
            "INFO:tensorflow:loss = 1.0457243, step = 500 (0.324 sec)\n",
            "INFO:tensorflow:global_step/sec: 313.863\n",
            "INFO:tensorflow:loss = 1.0177599, step = 600 (0.317 sec)\n",
            "INFO:tensorflow:global_step/sec: 302.095\n",
            "INFO:tensorflow:loss = 0.9840267, step = 700 (0.329 sec)\n",
            "INFO:tensorflow:global_step/sec: 314.232\n",
            "INFO:tensorflow:loss = 0.96918166, step = 800 (0.321 sec)\n",
            "INFO:tensorflow:global_step/sec: 310.117\n",
            "INFO:tensorflow:loss = 0.9529343, step = 900 (0.322 sec)\n",
            "INFO:tensorflow:global_step/sec: 295.716\n",
            "INFO:tensorflow:loss = 0.94586337, step = 1000 (0.338 sec)\n",
            "INFO:tensorflow:global_step/sec: 310.524\n",
            "INFO:tensorflow:loss = 0.92706525, step = 1100 (0.321 sec)\n",
            "INFO:tensorflow:global_step/sec: 298.501\n",
            "INFO:tensorflow:loss = 0.9136115, step = 1200 (0.336 sec)\n",
            "INFO:tensorflow:global_step/sec: 263.937\n",
            "INFO:tensorflow:loss = 0.8971156, step = 1300 (0.379 sec)\n",
            "INFO:tensorflow:global_step/sec: 312.348\n",
            "INFO:tensorflow:loss = 0.8893534, step = 1400 (0.319 sec)\n",
            "INFO:tensorflow:global_step/sec: 314.273\n",
            "INFO:tensorflow:loss = 0.8835747, step = 1500 (0.317 sec)\n",
            "INFO:tensorflow:global_step/sec: 283.431\n",
            "INFO:tensorflow:loss = 0.86570674, step = 1600 (0.355 sec)\n",
            "INFO:tensorflow:global_step/sec: 311.559\n",
            "INFO:tensorflow:loss = 0.8796597, step = 1700 (0.321 sec)\n",
            "INFO:tensorflow:global_step/sec: 308.879\n",
            "INFO:tensorflow:loss = 0.85707724, step = 1800 (0.323 sec)\n",
            "INFO:tensorflow:global_step/sec: 297.999\n",
            "INFO:tensorflow:loss = 0.85555124, step = 1900 (0.337 sec)\n",
            "INFO:tensorflow:global_step/sec: 313.87\n",
            "INFO:tensorflow:loss = 0.8422458, step = 2000 (0.316 sec)\n",
            "INFO:tensorflow:global_step/sec: 314.245\n",
            "INFO:tensorflow:loss = 0.8437295, step = 2100 (0.319 sec)\n",
            "INFO:tensorflow:global_step/sec: 302.232\n",
            "INFO:tensorflow:loss = 0.84247863, step = 2200 (0.331 sec)\n",
            "INFO:tensorflow:global_step/sec: 320.468\n",
            "INFO:tensorflow:loss = 0.8301638, step = 2300 (0.314 sec)\n",
            "INFO:tensorflow:global_step/sec: 314.036\n",
            "INFO:tensorflow:loss = 0.8295675, step = 2400 (0.318 sec)\n",
            "INFO:tensorflow:global_step/sec: 304.392\n",
            "INFO:tensorflow:loss = 0.8161609, step = 2500 (0.328 sec)\n",
            "INFO:tensorflow:global_step/sec: 309.521\n",
            "INFO:tensorflow:loss = 0.82371545, step = 2600 (0.323 sec)\n",
            "INFO:tensorflow:global_step/sec: 321.312\n",
            "INFO:tensorflow:loss = 0.82038045, step = 2700 (0.312 sec)\n",
            "INFO:tensorflow:global_step/sec: 294.515\n",
            "INFO:tensorflow:loss = 0.8089967, step = 2800 (0.339 sec)\n",
            "INFO:tensorflow:global_step/sec: 315.358\n",
            "INFO:tensorflow:loss = 0.80418324, step = 2900 (0.314 sec)\n",
            "INFO:tensorflow:global_step/sec: 315.487\n",
            "INFO:tensorflow:loss = 0.8031077, step = 3000 (0.319 sec)\n",
            "INFO:tensorflow:global_step/sec: 279.06\n",
            "INFO:tensorflow:loss = 0.7964661, step = 3100 (0.360 sec)\n",
            "INFO:tensorflow:global_step/sec: 295.898\n",
            "INFO:tensorflow:loss = 0.79015005, step = 3200 (0.338 sec)\n",
            "INFO:tensorflow:global_step/sec: 313.984\n",
            "INFO:tensorflow:loss = 0.7839718, step = 3300 (0.318 sec)\n",
            "INFO:tensorflow:global_step/sec: 313.264\n",
            "INFO:tensorflow:loss = 0.7957366, step = 3400 (0.316 sec)\n",
            "INFO:tensorflow:global_step/sec: 309.922\n",
            "INFO:tensorflow:loss = 0.78430104, step = 3500 (0.323 sec)\n",
            "INFO:tensorflow:global_step/sec: 322.13\n",
            "INFO:tensorflow:loss = 0.78308845, step = 3600 (0.311 sec)\n",
            "INFO:tensorflow:global_step/sec: 309.64\n",
            "INFO:tensorflow:loss = 0.80261636, step = 3700 (0.324 sec)\n",
            "INFO:tensorflow:global_step/sec: 281.239\n",
            "INFO:tensorflow:loss = 0.8014642, step = 3800 (0.356 sec)\n",
            "INFO:tensorflow:global_step/sec: 275.751\n",
            "INFO:tensorflow:loss = 0.7760819, step = 3900 (0.362 sec)\n",
            "INFO:tensorflow:global_step/sec: 264.943\n",
            "INFO:tensorflow:loss = 0.7771861, step = 4000 (0.379 sec)\n",
            "INFO:tensorflow:global_step/sec: 275.214\n",
            "INFO:tensorflow:loss = 0.7548942, step = 4100 (0.363 sec)\n",
            "INFO:tensorflow:global_step/sec: 269.92\n",
            "INFO:tensorflow:loss = 0.776725, step = 4200 (0.370 sec)\n",
            "INFO:tensorflow:global_step/sec: 261.436\n",
            "INFO:tensorflow:loss = 0.7705425, step = 4300 (0.380 sec)\n",
            "INFO:tensorflow:global_step/sec: 270.441\n",
            "INFO:tensorflow:loss = 0.76396453, step = 4400 (0.370 sec)\n",
            "INFO:tensorflow:global_step/sec: 274.383\n",
            "INFO:tensorflow:loss = 0.7637589, step = 4500 (0.367 sec)\n",
            "INFO:tensorflow:global_step/sec: 266.093\n",
            "INFO:tensorflow:loss = 0.77534264, step = 4600 (0.373 sec)\n",
            "INFO:tensorflow:global_step/sec: 264.409\n",
            "INFO:tensorflow:loss = 0.74670297, step = 4700 (0.379 sec)\n",
            "INFO:tensorflow:global_step/sec: 250.947\n",
            "INFO:tensorflow:loss = 0.76055914, step = 4800 (0.398 sec)\n",
            "INFO:tensorflow:global_step/sec: 282.36\n",
            "INFO:tensorflow:loss = 0.76402277, step = 4900 (0.357 sec)\n",
            "INFO:tensorflow:Calling checkpoint listeners before saving checkpoint 5000...\n",
            "INFO:tensorflow:Saving checkpoints for 5000 into /tmp/tmpeomf7_uh/model.ckpt.\n",
            "INFO:tensorflow:Calling checkpoint listeners after saving checkpoint 5000...\n",
            "INFO:tensorflow:Loss for final step: 0.7474108.\n"
          ],
          "name": "stdout"
        },
        {
          "output_type": "execute_result",
          "data": {
            "text/plain": [
              "<tensorflow_estimator.python.estimator.canned.dnn.DNNClassifierV2 at 0x7f80ec67d470>"
            ]
          },
          "metadata": {
            "tags": []
          },
          "execution_count": 19
        }
      ]
    },
    {
      "cell_type": "code",
      "metadata": {
        "id": "cSpV-6h3vPT4",
        "colab_type": "code",
        "colab": {
          "base_uri": "https://localhost:8080/",
          "height": 377
        },
        "outputId": "147c5496-bfe6-4f1d-f879-f59a632be1d9"
      },
      "source": [
        "eval_result = classifier.evaluate(\n",
        "    input_fn=lambda: input_fn(test, test_y, training=False))\n",
        "\n",
        "print('\\nTest set accuracy: {accuracy:0.3f}\\n'.format(**eval_result))"
      ],
      "execution_count": null,
      "outputs": [
        {
          "output_type": "stream",
          "text": [
            "INFO:tensorflow:Calling model_fn.\n",
            "WARNING:tensorflow:Layer dnn is casting an input tensor from dtype float64 to the layer's dtype of float32, which is new behavior in TensorFlow 2.  The layer has dtype float32 because it's dtype defaults to floatx.\n",
            "\n",
            "If you intended to run this layer in float32, you can safely ignore this warning. If in doubt, this warning is likely only an issue if you are porting a TensorFlow 1.X model to TensorFlow 2.\n",
            "\n",
            "To change all layers to have dtype float64 by default, call `tf.keras.backend.set_floatx('float64')`. To change just this layer, pass dtype='float64' to the layer constructor. If you are the author of this layer, you can disable autocasting by passing autocast=False to the base Layer constructor.\n",
            "\n",
            "INFO:tensorflow:Done calling model_fn.\n",
            "INFO:tensorflow:Starting evaluation at 2020-06-02T15:53:41Z\n",
            "INFO:tensorflow:Graph was finalized.\n",
            "INFO:tensorflow:Restoring parameters from /tmp/tmpeomf7_uh/model.ckpt-5000\n",
            "INFO:tensorflow:Running local_init_op.\n",
            "INFO:tensorflow:Done running local_init_op.\n",
            "INFO:tensorflow:Inference Time : 0.29303s\n",
            "INFO:tensorflow:Finished evaluation at 2020-06-02-15:53:41\n",
            "INFO:tensorflow:Saving dict for global step 5000: accuracy = 0.7, average_loss = 0.82672244, global_step = 5000, loss = 0.82672244\n",
            "INFO:tensorflow:Saving 'checkpoint_path' summary for global step 5000: /tmp/tmpeomf7_uh/model.ckpt-5000\n",
            "\n",
            "Test set accuracy: 0.700\n",
            "\n"
          ],
          "name": "stdout"
        }
      ]
    },
    {
      "cell_type": "code",
      "metadata": {
        "id": "lnQ5M2scvmyY",
        "colab_type": "code",
        "colab": {}
      },
      "source": [
        "# Generate predictions from the model\n",
        "expected = ['Setosa', 'Versicolor', 'Virginica']\n",
        "predict_x = {\n",
        "    'SepalLength': [5.1, 5.9, 6.9],\n",
        "    'SepalWidth': [3.3, 3.0, 3.1],\n",
        "    'PetalLength': [1.7, 4.2, 5.4],\n",
        "    'PetalWidth': [0.5, 1.5, 2.1],\n",
        "}\n",
        "\n",
        "def inf_input_fn(features, batch_size=256):\n",
        "    \"\"\"An input function for prediction.\"\"\"\n",
        "    # Convert the inputs to a Dataset without labels.\n",
        "    return tf.data.Dataset.from_tensor_slices(dict(features)).batch(batch_size)\n",
        "\n",
        "predictions = classifier.predict(\n",
        "    input_fn=lambda: inf_input_fn(predict_x))"
      ],
      "execution_count": null,
      "outputs": []
    },
    {
      "cell_type": "code",
      "metadata": {
        "id": "s2YZziRSv2Q7",
        "colab_type": "code",
        "colab": {
          "base_uri": "https://localhost:8080/",
          "height": 170
        },
        "outputId": "a26f14aa-b5d5-44fb-d287-e9bb5187a29d"
      },
      "source": [
        "for pred_dict, expec in zip(predictions, expected):\n",
        "    class_id = pred_dict['class_ids'][0]\n",
        "    probability = pred_dict['probabilities'][class_id]\n",
        "\n",
        "    print('Prediction is \"{}\" ({:.1f}%), expected \"{}\"'.format(\n",
        "        SPECIES[class_id], 100 * probability, expec))"
      ],
      "execution_count": null,
      "outputs": [
        {
          "output_type": "stream",
          "text": [
            "INFO:tensorflow:Calling model_fn.\n",
            "INFO:tensorflow:Done calling model_fn.\n",
            "INFO:tensorflow:Graph was finalized.\n",
            "INFO:tensorflow:Restoring parameters from /tmp/tmpeomf7_uh/model.ckpt-5000\n",
            "INFO:tensorflow:Running local_init_op.\n",
            "INFO:tensorflow:Done running local_init_op.\n",
            "Prediction is \"Setosa\" (76.9%), expected \"Setosa\"\n",
            "Prediction is \"Setosa\" (36.3%), expected \"Versicolor\"\n",
            "Prediction is \"Virginica\" (36.0%), expected \"Virginica\"\n"
          ],
          "name": "stdout"
        }
      ]
    },
    {
      "cell_type": "markdown",
      "metadata": {
        "id": "RBcmiDUznZr9",
        "colab_type": "text"
      },
      "source": [
        "## 最小構成"
      ]
    },
    {
      "cell_type": "code",
      "metadata": {
        "id": "8kEuABTQYF43",
        "colab_type": "code",
        "colab": {}
      },
      "source": [
        "import tensorflow as tf\n",
        "import numpy as np"
      ],
      "execution_count": null,
      "outputs": []
    },
    {
      "cell_type": "code",
      "metadata": {
        "id": "WjilV2ZLYMmY",
        "colab_type": "code",
        "colab": {}
      },
      "source": [
        "x = np.random.randn(1000) * 10\n",
        "y = np.random.randn(1000) * 5\n",
        "label_x = (x > 0).astype(int)\n",
        "label_y = (y > 0).astype(int)"
      ],
      "execution_count": null,
      "outputs": []
    },
    {
      "cell_type": "code",
      "metadata": {
        "id": "MVTE1HXrnnpv",
        "colab_type": "code",
        "colab": {
          "base_uri": "https://localhost:8080/",
          "height": 187
        },
        "outputId": "43dc9e2c-f608-4f25-c4e0-24a2a628567b"
      },
      "source": [
        "train = np.stack([x, y], axis=1)\n",
        "label = np.stack([label_x, label_y], axis=1)\n",
        "print(label[:10])"
      ],
      "execution_count": null,
      "outputs": [
        {
          "output_type": "stream",
          "text": [
            "[[0 0]\n",
            " [1 1]\n",
            " [1 1]\n",
            " [0 1]\n",
            " [1 0]\n",
            " [1 0]\n",
            " [1 1]\n",
            " [1 1]\n",
            " [0 1]\n",
            " [1 1]]\n"
          ],
          "name": "stdout"
        }
      ]
    },
    {
      "cell_type": "code",
      "metadata": {
        "id": "qe9Izx8HYv2m",
        "colab_type": "code",
        "colab": {
          "base_uri": "https://localhost:8080/",
          "height": 119
        },
        "outputId": "0ce32d4c-0a7e-4724-dd44-e408bd43e0a0"
      },
      "source": [
        "print(x[:10])\n",
        "print(y[:10])\n",
        "print(label_x[:10])\n",
        "print(label_y[:10])"
      ],
      "execution_count": null,
      "outputs": [
        {
          "output_type": "stream",
          "text": [
            "[-21.46786541  16.3901866    4.75342577  -9.9698129   19.16357888\n",
            "   4.02222608   0.8868771   11.50112749  -1.36971506  16.90391417]\n",
            "[-2.39731738  5.9664881   7.47485038  3.92911625 -1.92755783 -3.25265554\n",
            "  0.61416839  6.60598356  2.27262521  2.21812999]\n",
            "[0 1 1 0 1 1 1 1 0 1]\n",
            "[0 1 1 1 0 0 1 1 1 1]\n"
          ],
          "name": "stdout"
        }
      ]
    },
    {
      "cell_type": "code",
      "metadata": {
        "id": "kZBs7-pWY9sL",
        "colab_type": "code",
        "colab": {}
      },
      "source": [
        "# 各列の前処理の定義\n",
        "x_col = tf.feature_column.numeric_column(\"x_col\", shape=(1,), normalizer_fn=lambda x: x / 10)\n",
        "y_col = tf.feature_column.numeric_column(\"y_col\", shape=(1,), normalizer_fn=lambda x: x / 5)\n",
        "feature_cols = [x_col, y_col]"
      ],
      "execution_count": null,
      "outputs": []
    },
    {
      "cell_type": "code",
      "metadata": {
        "id": "kIrR-C-skjdE",
        "colab_type": "code",
        "colab": {}
      },
      "source": [
        "# データセットの作成\n",
        "# from_tensor_slicesはデータ構造そのままに値をtensorに変えられる感じ\n",
        "# dictを入れればvalueがtensorになるし, tupleをいれればtensorのtupleになる\n",
        "def input_fn(features, labels, training=True, batch_size=5):\n",
        "    dataset = tf.data.Dataset.from_tensor_slices((features, labels))\n",
        "    if training:\n",
        "        dataset = dataset.shuffle(1000).repeat()\n",
        "    return dataset.batch(batch_size)  # これもdataset型"
      ],
      "execution_count": null,
      "outputs": []
    },
    {
      "cell_type": "code",
      "metadata": {
        "id": "rPNPhEXFoxsH",
        "colab_type": "code",
        "colab": {}
      },
      "source": [
        "batch_size = 5\n",
        "epoch = 10\n",
        "data_num = len(x)\n",
        "steps_per_epoch = np.ceil(data_num / batch_size)"
      ],
      "execution_count": null,
      "outputs": []
    },
    {
      "cell_type": "code",
      "metadata": {
        "id": "prFMyj30aNZd",
        "colab_type": "code",
        "colab": {
          "base_uri": "https://localhost:8080/",
          "height": 190
        },
        "outputId": "0171bee0-ae69-41d8-cecf-d350b014a61d"
      },
      "source": [
        "# モデルアーキテクチャ\n",
        "decay_steps = 3 * steps_per_epoch\n",
        "lr = tf.keras.optimizers.schedules.ExponentialDecay(0.01, decay_steps, 0.1, staircase=True)  # 3epochごとに減衰\n",
        "optimizer = tf.keras.optimizers.Adam(learning_rate=lr)\n",
        "head = tf.estimator.MultiLabelHead(2)\n",
        "estimator = tf.estimator.DNNEstimator(head, [5], feature_cols, optimizer=optimizer)"
      ],
      "execution_count": null,
      "outputs": [
        {
          "output_type": "stream",
          "text": [
            "INFO:tensorflow:Using default config.\n",
            "WARNING:tensorflow:Using temporary folder as model directory: /tmp/tmpbsq4ci5d\n",
            "INFO:tensorflow:Using config: {'_model_dir': '/tmp/tmpbsq4ci5d', '_tf_random_seed': None, '_save_summary_steps': 100, '_save_checkpoints_steps': None, '_save_checkpoints_secs': 600, '_session_config': allow_soft_placement: true\n",
            "graph_options {\n",
            "  rewrite_options {\n",
            "    meta_optimizer_iterations: ONE\n",
            "  }\n",
            "}\n",
            ", '_keep_checkpoint_max': 5, '_keep_checkpoint_every_n_hours': 10000, '_log_step_count_steps': 100, '_train_distribute': None, '_device_fn': None, '_protocol': None, '_eval_distribute': None, '_experimental_distribute': None, '_experimental_max_worker_delay_secs': None, '_session_creation_timeout_secs': 7200, '_service': None, '_cluster_spec': ClusterSpec({}), '_task_type': 'worker', '_task_id': 0, '_global_id_in_cluster': 0, '_master': '', '_evaluation_master': '', '_is_chief': True, '_num_ps_replicas': 0, '_num_worker_replicas': 1}\n"
          ],
          "name": "stdout"
        }
      ]
    },
    {
      "cell_type": "code",
      "metadata": {
        "id": "xN_07kQrdbv9",
        "colab_type": "code",
        "colab": {
          "base_uri": "https://localhost:8080/",
          "height": 1000
        },
        "outputId": "4538562d-20ff-4dff-8650-a67ff63b5e5a"
      },
      "source": [
        "# 学習\n",
        "estimator.train(\n",
        "    input_fn=lambda: input_fn({\"x_col\": x, \"y_col\": y}, label, training=True, batch_size=batch_size),\n",
        "    steps=epoch * steps_per_epoch)"
      ],
      "execution_count": null,
      "outputs": [
        {
          "output_type": "stream",
          "text": [
            "INFO:tensorflow:Calling model_fn.\n",
            "WARNING:tensorflow:Layer dnn is casting an input tensor from dtype float64 to the layer's dtype of float32, which is new behavior in TensorFlow 2.  The layer has dtype float32 because it's dtype defaults to floatx.\n",
            "\n",
            "If you intended to run this layer in float32, you can safely ignore this warning. If in doubt, this warning is likely only an issue if you are porting a TensorFlow 1.X model to TensorFlow 2.\n",
            "\n",
            "To change all layers to have dtype float64 by default, call `tf.keras.backend.set_floatx('float64')`. To change just this layer, pass dtype='float64' to the layer constructor. If you are the author of this layer, you can disable autocasting by passing autocast=False to the base Layer constructor.\n",
            "\n",
            "INFO:tensorflow:Done calling model_fn.\n",
            "INFO:tensorflow:Create CheckpointSaverHook.\n",
            "INFO:tensorflow:Graph was finalized.\n",
            "INFO:tensorflow:Running local_init_op.\n",
            "INFO:tensorflow:Done running local_init_op.\n",
            "INFO:tensorflow:Calling checkpoint listeners before saving checkpoint 0...\n",
            "INFO:tensorflow:Saving checkpoints for 0 into /tmp/tmpbsq4ci5d/model.ckpt.\n",
            "INFO:tensorflow:Calling checkpoint listeners after saving checkpoint 0...\n",
            "INFO:tensorflow:loss = 0.60379547, step = 0\n",
            "INFO:tensorflow:global_step/sec: 255.094\n",
            "INFO:tensorflow:loss = 0.5272606, step = 100 (0.395 sec)\n",
            "INFO:tensorflow:global_step/sec: 329.48\n",
            "INFO:tensorflow:loss = 0.16461489, step = 200 (0.305 sec)\n",
            "INFO:tensorflow:global_step/sec: 336.427\n",
            "INFO:tensorflow:loss = 0.18019882, step = 300 (0.298 sec)\n",
            "INFO:tensorflow:global_step/sec: 332\n",
            "INFO:tensorflow:loss = 0.106250465, step = 400 (0.301 sec)\n",
            "INFO:tensorflow:global_step/sec: 346.86\n",
            "INFO:tensorflow:loss = 0.03620965, step = 500 (0.288 sec)\n",
            "INFO:tensorflow:global_step/sec: 330.721\n",
            "INFO:tensorflow:loss = 0.13992672, step = 600 (0.301 sec)\n",
            "INFO:tensorflow:global_step/sec: 323.268\n",
            "INFO:tensorflow:loss = 0.14597185, step = 700 (0.311 sec)\n",
            "INFO:tensorflow:global_step/sec: 337.036\n",
            "INFO:tensorflow:loss = 0.041643523, step = 800 (0.296 sec)\n",
            "INFO:tensorflow:global_step/sec: 334.504\n",
            "INFO:tensorflow:loss = 0.13427328, step = 900 (0.297 sec)\n",
            "INFO:tensorflow:global_step/sec: 333.585\n",
            "INFO:tensorflow:loss = 0.00036255104, step = 1000 (0.300 sec)\n",
            "INFO:tensorflow:global_step/sec: 337.393\n",
            "INFO:tensorflow:loss = 0.10701315, step = 1100 (0.299 sec)\n",
            "INFO:tensorflow:global_step/sec: 327.446\n",
            "INFO:tensorflow:loss = 0.027103905, step = 1200 (0.305 sec)\n",
            "INFO:tensorflow:global_step/sec: 332.346\n",
            "INFO:tensorflow:loss = 0.12138232, step = 1300 (0.300 sec)\n",
            "INFO:tensorflow:global_step/sec: 331.074\n",
            "INFO:tensorflow:loss = 0.036519043, step = 1400 (0.303 sec)\n",
            "INFO:tensorflow:global_step/sec: 335.363\n",
            "INFO:tensorflow:loss = 0.030376703, step = 1500 (0.296 sec)\n",
            "INFO:tensorflow:global_step/sec: 316.973\n",
            "INFO:tensorflow:loss = 0.0053509236, step = 1600 (0.318 sec)\n",
            "INFO:tensorflow:global_step/sec: 332.866\n",
            "INFO:tensorflow:loss = 0.0073004486, step = 1700 (0.298 sec)\n",
            "INFO:tensorflow:global_step/sec: 341.147\n",
            "INFO:tensorflow:loss = 0.07739075, step = 1800 (0.296 sec)\n",
            "INFO:tensorflow:global_step/sec: 327.301\n",
            "INFO:tensorflow:loss = 0.078585915, step = 1900 (0.305 sec)\n",
            "INFO:tensorflow:Calling checkpoint listeners before saving checkpoint 2000...\n",
            "INFO:tensorflow:Saving checkpoints for 2000 into /tmp/tmpbsq4ci5d/model.ckpt.\n",
            "INFO:tensorflow:Calling checkpoint listeners after saving checkpoint 2000...\n",
            "INFO:tensorflow:Loss for final step: 0.02497078.\n"
          ],
          "name": "stdout"
        },
        {
          "output_type": "execute_result",
          "data": {
            "text/plain": [
              "<tensorflow_estimator.python.estimator.canned.dnn.DNNEstimatorV2 at 0x7fb461635c50>"
            ]
          },
          "metadata": {
            "tags": []
          },
          "execution_count": 84
        }
      ]
    },
    {
      "cell_type": "code",
      "metadata": {
        "id": "u1deJZP8rR_w",
        "colab_type": "code",
        "colab": {
          "base_uri": "https://localhost:8080/",
          "height": 343
        },
        "outputId": "ba721528-a5e9-4390-fd12-3e178a289521"
      },
      "source": [
        "eval_result = estimator.evaluate(input_fn=lambda: input_fn({\"x_col\": x[:10], \"y_col\": y[:10]}, label[:10], training=False, batch_size=batch_size))\n",
        "print(eval_result)"
      ],
      "execution_count": null,
      "outputs": [
        {
          "output_type": "stream",
          "text": [
            "INFO:tensorflow:Calling model_fn.\n",
            "WARNING:tensorflow:Layer dnn is casting an input tensor from dtype float64 to the layer's dtype of float32, which is new behavior in TensorFlow 2.  The layer has dtype float32 because it's dtype defaults to floatx.\n",
            "\n",
            "If you intended to run this layer in float32, you can safely ignore this warning. If in doubt, this warning is likely only an issue if you are porting a TensorFlow 1.X model to TensorFlow 2.\n",
            "\n",
            "To change all layers to have dtype float64 by default, call `tf.keras.backend.set_floatx('float64')`. To change just this layer, pass dtype='float64' to the layer constructor. If you are the author of this layer, you can disable autocasting by passing autocast=False to the base Layer constructor.\n",
            "\n",
            "INFO:tensorflow:Done calling model_fn.\n",
            "INFO:tensorflow:Starting evaluation at 2020-06-23T15:18:57Z\n",
            "INFO:tensorflow:Graph was finalized.\n",
            "INFO:tensorflow:Restoring parameters from /tmp/tmpbsq4ci5d/model.ckpt-2000\n",
            "INFO:tensorflow:Running local_init_op.\n",
            "INFO:tensorflow:Done running local_init_op.\n",
            "INFO:tensorflow:Inference Time : 0.40191s\n",
            "INFO:tensorflow:Finished evaluation at 2020-06-23-15:18:58\n",
            "INFO:tensorflow:Saving dict for global step 2000: auc = 1.0, auc_precision_recall = 1.0, average_loss = 0.02631105, global_step = 2000, loss = 0.02631105\n",
            "INFO:tensorflow:Saving 'checkpoint_path' summary for global step 2000: /tmp/tmpbsq4ci5d/model.ckpt-2000\n",
            "{'auc': 1.0, 'auc_precision_recall': 1.0, 'average_loss': 0.02631105, 'loss': 0.02631105, 'global_step': 2000}\n"
          ],
          "name": "stdout"
        }
      ]
    },
    {
      "cell_type": "code",
      "metadata": {
        "id": "ANT8y3o_rCbI",
        "colab_type": "code",
        "colab": {
          "base_uri": "https://localhost:8080/",
          "height": 649
        },
        "outputId": "f862e292-8500-4958-b070-aacc720c17ec"
      },
      "source": [
        "# 推論\n",
        "print(x[:20])\n",
        "predictions = estimator.predict(input_fn=lambda: tf.data.Dataset.from_tensor_slices({\"x_col\": x[:20], \"y_col\": y[:20]}).batch(1))\n",
        "for pred in predictions:\n",
        "  print(pred)"
      ],
      "execution_count": null,
      "outputs": [
        {
          "output_type": "stream",
          "text": [
            "[-21.46786541  16.3901866    4.75342577  -9.9698129   19.16357888\n",
            "   4.02222608   0.8868771   11.50112749  -1.36971506  16.90391417\n",
            "   3.48503549  19.81610138   5.1662209    6.14844221  -6.24419541\n",
            "  -6.15980765   3.6516977    1.10719437 -12.09730078   8.48242769]\n",
            "INFO:tensorflow:Calling model_fn.\n",
            "WARNING:tensorflow:Layer dnn is casting an input tensor from dtype float64 to the layer's dtype of float32, which is new behavior in TensorFlow 2.  The layer has dtype float32 because it's dtype defaults to floatx.\n",
            "\n",
            "If you intended to run this layer in float32, you can safely ignore this warning. If in doubt, this warning is likely only an issue if you are porting a TensorFlow 1.X model to TensorFlow 2.\n",
            "\n",
            "To change all layers to have dtype float64 by default, call `tf.keras.backend.set_floatx('float64')`. To change just this layer, pass dtype='float64' to the layer constructor. If you are the author of this layer, you can disable autocasting by passing autocast=False to the base Layer constructor.\n",
            "\n",
            "INFO:tensorflow:Done calling model_fn.\n",
            "INFO:tensorflow:Graph was finalized.\n",
            "INFO:tensorflow:Restoring parameters from /tmp/tmpbsq4ci5d/model.ckpt-2000\n",
            "INFO:tensorflow:Running local_init_op.\n",
            "INFO:tensorflow:Done running local_init_op.\n",
            "{'logits': array([-17.655212 ,  -5.0625815], dtype=float32), 'probabilities': array([2.1500011e-08, 6.2893927e-03], dtype=float32), 'classes': array([b'0', b'1'], dtype=object)}\n",
            "{'logits': array([15.863937, 17.915117], dtype=float32), 'probabilities': array([0.9999999, 1.       ], dtype=float32), 'classes': array([b'0', b'1'], dtype=object)}\n",
            "{'logits': array([ 6.6140194, 24.189695 ], dtype=float32), 'probabilities': array([0.9986603, 1.       ], dtype=float32), 'classes': array([b'0', b'1'], dtype=object)}\n",
            "{'logits': array([-9.792972, 11.988647], dtype=float32), 'probabilities': array([5.5839588e-05, 9.9999380e-01], dtype=float32), 'classes': array([b'0', b'1'], dtype=object)}\n",
            "{'logits': array([17.711948, -5.533699], dtype=float32), 'probabilities': array([1.        , 0.00393579], dtype=float32), 'classes': array([b'0', b'1'], dtype=object)}\n",
            "{'logits': array([ 5.773817 , -3.1425858], dtype=float32), 'probabilities': array([0.99690175, 0.04138442], dtype=float32), 'classes': array([b'0', b'1'], dtype=object)}\n",
            "{'logits': array([1.1337891, 2.442399 ], dtype=float32), 'probabilities': array([0.7565375 , 0.92000383], dtype=float32), 'classes': array([b'0', b'1'], dtype=object)}\n",
            "{'logits': array([11.977839, 20.569698], dtype=float32), 'probabilities': array([0.9999937, 1.       ], dtype=float32), 'classes': array([b'0', b'1'], dtype=object)}\n",
            "{'logits': array([-2.2142236,  7.727275 ], dtype=float32), 'probabilities': array([0.09848045, 0.9995596 ], dtype=float32), 'classes': array([b'0', b'1'], dtype=object)}\n",
            "{'logits': array([16.172935 ,  5.9146123], dtype=float32), 'probabilities': array([0.9999999 , 0.99730754], dtype=float32), 'classes': array([b'0', b'1'], dtype=object)}\n",
            "{'logits': array([ 5.01532 , 15.081577], dtype=float32), 'probabilities': array([0.9934082 , 0.99999976], dtype=float32), 'classes': array([b'0', b'1'], dtype=object)}\n",
            "{'logits': array([18.286158 , -5.6487083], dtype=float32), 'probabilities': array([1.       , 0.0035097], dtype=float32), 'classes': array([b'0', b'1'], dtype=object)}\n",
            "{'logits': array([6.7616405, 2.6686554], dtype=float32), 'probabilities': array([0.998844 , 0.9351516], dtype=float32), 'classes': array([b'0', b'1'], dtype=object)}\n",
            "{'logits': array([ 7.500032, -2.827398], dtype=float32), 'probabilities': array([0.9994473 , 0.05586147], dtype=float32), 'classes': array([b'0', b'1'], dtype=object)}\n",
            "{'logits': array([-7.1722  , 18.096363], dtype=float32), 'probabilities': array([7.670431e-04, 1.000000e+00], dtype=float32), 'classes': array([b'0', b'1'], dtype=object)}\n",
            "{'logits': array([-7.15248 ,  8.541813], dtype=float32), 'probabilities': array([7.8230747e-04, 9.9980491e-01], dtype=float32), 'classes': array([b'0', b'1'], dtype=object)}\n",
            "{'logits': array([ 5.2253613, -3.125731 ], dtype=float32), 'probabilities': array([0.9946504 , 0.04205827], dtype=float32), 'classes': array([b'0', b'1'], dtype=object)}\n",
            "{'logits': array([ 1.5519457, -3.0261264], dtype=float32), 'probabilities': array([0.8251946 , 0.04625943], dtype=float32), 'classes': array([b'0', b'1'], dtype=object)}\n",
            "{'logits': array([-11.184505 ,  -3.9183326], dtype=float32), 'probabilities': array([1.3887528e-05, 1.9486919e-02], dtype=float32), 'classes': array([b'0', b'1'], dtype=object)}\n",
            "{'logits': array([ 9.321438 , -3.8531463], dtype=float32), 'probabilities': array([0.9999105 , 0.02077225], dtype=float32), 'classes': array([b'0', b'1'], dtype=object)}\n"
          ],
          "name": "stdout"
        }
      ]
    },
    {
      "cell_type": "markdown",
      "metadata": {
        "id": "nIluX5ynUHW-",
        "colab_type": "text"
      },
      "source": [
        "## テンソル"
      ]
    },
    {
      "cell_type": "code",
      "metadata": {
        "id": "ZlaNVR_sNhzn",
        "colab_type": "code",
        "colab": {}
      },
      "source": [
        "from __future__ import absolute_import, division, print_function, unicode_literals"
      ],
      "execution_count": null,
      "outputs": []
    },
    {
      "cell_type": "code",
      "metadata": {
        "id": "jS4_ww3eNsRj",
        "colab_type": "code",
        "colab": {}
      },
      "source": [
        "import tensorflow as tf"
      ],
      "execution_count": null,
      "outputs": []
    },
    {
      "cell_type": "code",
      "metadata": {
        "id": "I_DIsTJ4N4Cj",
        "colab_type": "code",
        "colab": {
          "base_uri": "https://localhost:8080/",
          "height": 102
        },
        "outputId": "a6ee3e1a-8490-4c42-97c8-9db34aa7fef4"
      },
      "source": [
        "print(tf.add(1, 2))\n",
        "print(tf.add([1, 2], [3, 4]))\n",
        "print(tf.square(5))\n",
        "print(tf.reduce_sum([1, 2, 3]))\n",
        "\n",
        "# Operator overloading is also supported\n",
        "print(tf.square(2) + tf.square(3))"
      ],
      "execution_count": null,
      "outputs": [
        {
          "output_type": "stream",
          "text": [
            "tf.Tensor(3, shape=(), dtype=int32)\n",
            "tf.Tensor([4 6], shape=(2,), dtype=int32)\n",
            "tf.Tensor(25, shape=(), dtype=int32)\n",
            "tf.Tensor(6, shape=(), dtype=int32)\n",
            "tf.Tensor(13, shape=(), dtype=int32)\n"
          ],
          "name": "stdout"
        }
      ]
    },
    {
      "cell_type": "code",
      "metadata": {
        "id": "xaglep71OD6N",
        "colab_type": "code",
        "colab": {
          "base_uri": "https://localhost:8080/",
          "height": 68
        },
        "outputId": "e800a090-f651-428d-c2d2-8660cb8b7d72"
      },
      "source": [
        "x = tf.matmul([[1]], [[2, 3]])\n",
        "print(x)\n",
        "print(x.shape)\n",
        "print(x.dtype)"
      ],
      "execution_count": null,
      "outputs": [
        {
          "output_type": "stream",
          "text": [
            "tf.Tensor([[2 3]], shape=(1, 2), dtype=int32)\n",
            "(1, 2)\n",
            "<dtype: 'int32'>\n"
          ],
          "name": "stdout"
        }
      ]
    },
    {
      "cell_type": "code",
      "metadata": {
        "id": "B_mgYSeOONwY",
        "colab_type": "code",
        "colab": {
          "base_uri": "https://localhost:8080/",
          "height": 102
        },
        "outputId": "81226c0e-5b16-4f3b-e5bb-214f98b0f6c6"
      },
      "source": [
        "x = tf.random.uniform([3, 3])\n",
        "\n",
        "print(\"利用できるGPUはあるか: \"),\n",
        "print(tf.config.experimental.list_physical_devices(\"GPU\"))\n",
        "\n",
        "print(\"テンソルはGPU #0にあるか:  \"),\n",
        "print(x.device.endswith('GPU:0'))\n",
        "\n",
        "print(x.device)"
      ],
      "execution_count": null,
      "outputs": [
        {
          "output_type": "stream",
          "text": [
            "利用できるGPUはあるか: \n",
            "[PhysicalDevice(name='/physical_device:GPU:0', device_type='GPU')]\n",
            "テンソルはGPU #0にあるか:  \n",
            "True\n",
            "/job:localhost/replica:0/task:0/device:GPU:0\n"
          ],
          "name": "stdout"
        }
      ]
    },
    {
      "cell_type": "code",
      "metadata": {
        "id": "_S9V-JxZPfIB",
        "colab_type": "code",
        "colab": {
          "base_uri": "https://localhost:8080/",
          "height": 85
        },
        "outputId": "6c41beed-84c9-4e16-88d3-597ad7bd42b9"
      },
      "source": [
        "import time\n",
        "\n",
        "def time_matmul(x):\n",
        "  start = time.time()\n",
        "  for loop in range(10):\n",
        "    tf.matmul(x, x)\n",
        "\n",
        "  result = time.time()-start\n",
        "    \n",
        "  print(\"10 loops: {:0.2f}ms\".format(1000*result))\n",
        "\n",
        "# CPUでの実行を強制\n",
        "print(\"On CPU:\")\n",
        "with tf.device(\"CPU:0\"):\n",
        "  x = tf.random.uniform([1000, 1000])\n",
        "  assert x.device.endswith(\"CPU:0\")\n",
        "  time_matmul(x)\n",
        "\n",
        "# GPU #0があればその上での実行を強制\n",
        "if tf.config.experimental.list_physical_devices(\"GPU\"):\n",
        "  print(\"On GPU:\")\n",
        "  with tf.device(\"GPU:0\"): # 2番めのGPUなら GPU:1, 3番目なら GPU:2 など\n",
        "    x = tf.random.uniform([1000, 1000])\n",
        "    assert x.device.endswith(\"GPU:0\")\n",
        "    time_matmul(x)"
      ],
      "execution_count": null,
      "outputs": [
        {
          "output_type": "stream",
          "text": [
            "On CPU:\n",
            "10 loops: 353.11ms\n",
            "On GPU:\n",
            "10 loops: 0.76ms\n"
          ],
          "name": "stdout"
        }
      ]
    },
    {
      "cell_type": "code",
      "metadata": {
        "id": "DP5gkKEiSIh5",
        "colab_type": "code",
        "colab": {}
      },
      "source": [
        "ds_tensors = tf.data.Dataset.from_tensor_slices([1, 2, 3, 4, 5, 6])\n",
        "\n",
        "# CSVファイルを作成\n",
        "import tempfile\n",
        "_, filename = tempfile.mkstemp()\n",
        "\n",
        "with open(filename, 'w') as f:\n",
        "  f.write(\"\"\"Line 1\n",
        "Line 2\n",
        "Line 3\n",
        "  \"\"\")\n",
        "\n",
        "ds_file = tf.data.TextLineDataset(filename)"
      ],
      "execution_count": null,
      "outputs": []
    },
    {
      "cell_type": "code",
      "metadata": {
        "id": "yHZKILI-SL3e",
        "colab_type": "code",
        "colab": {}
      },
      "source": [
        "ds_tensors = ds_tensors.map(tf.square).shuffle(2).batch(2)\n",
        "\n",
        "ds_file = ds_file.batch(2)"
      ],
      "execution_count": null,
      "outputs": []
    },
    {
      "cell_type": "code",
      "metadata": {
        "id": "CNVtErfcSUIG",
        "colab_type": "code",
        "colab": {
          "base_uri": "https://localhost:8080/",
          "height": 153
        },
        "outputId": "d7064cdc-5f59-4e6e-e1d1-fffc0cb9c82a"
      },
      "source": [
        "print('ds_tensors の要素:')\n",
        "for x in ds_tensors:\n",
        "  print(x)\n",
        "\n",
        "print('\\nds_file の要素:')\n",
        "for x in ds_file:\n",
        "  print(x)"
      ],
      "execution_count": null,
      "outputs": [
        {
          "output_type": "stream",
          "text": [
            "ds_tensors の要素:\n",
            "tf.Tensor([4 1], shape=(2,), dtype=int32)\n",
            "tf.Tensor([ 9 25], shape=(2,), dtype=int32)\n",
            "tf.Tensor([36 16], shape=(2,), dtype=int32)\n",
            "\n",
            "ds_file の要素:\n",
            "tf.Tensor([b'Line 1' b'Line 2'], shape=(2,), dtype=string)\n",
            "tf.Tensor([b'Line 3' b'  '], shape=(2,), dtype=string)\n"
          ],
          "name": "stdout"
        }
      ]
    },
    {
      "cell_type": "markdown",
      "metadata": {
        "id": "LodzQJ76UN4B",
        "colab_type": "text"
      },
      "source": [
        "## カスタムレイヤ"
      ]
    },
    {
      "cell_type": "code",
      "metadata": {
        "id": "DUoEH4BlUEKS",
        "colab_type": "code",
        "colab": {
          "base_uri": "https://localhost:8080/",
          "height": 479
        },
        "outputId": "a944470b-f04b-4be1-d25a-9e5d880ed9d7"
      },
      "source": [
        "class MyDenseLayer(tf.keras.layers.Layer):\n",
        "  def __init__(self, num_outputs):\n",
        "    super(MyDenseLayer, self).__init__()\n",
        "    self.num_outputs = num_outputs\n",
        "    \n",
        "  def build(self, input_shape):\n",
        "    self.kernel = self.add_variable(\"kernel\", \n",
        "                                    shape=[int(input_shape[-1]), \n",
        "                                           self.num_outputs])\n",
        "    \n",
        "  def call(self, input):\n",
        "    return tf.matmul(input, self.kernel)\n",
        "  \n",
        "layer = MyDenseLayer(10)\n",
        "print(layer(tf.zeros([10, 5])))\n",
        "print(layer.trainable_variables)"
      ],
      "execution_count": null,
      "outputs": [
        {
          "output_type": "stream",
          "text": [
            "WARNING:tensorflow:From <ipython-input-13-8c935db19b9e>:9: Layer.add_variable (from tensorflow.python.keras.engine.base_layer) is deprecated and will be removed in a future version.\n",
            "Instructions for updating:\n",
            "Please use `layer.add_weight` method instead.\n",
            "tf.Tensor(\n",
            "[[0. 0. 0. 0. 0. 0. 0. 0. 0. 0.]\n",
            " [0. 0. 0. 0. 0. 0. 0. 0. 0. 0.]\n",
            " [0. 0. 0. 0. 0. 0. 0. 0. 0. 0.]\n",
            " [0. 0. 0. 0. 0. 0. 0. 0. 0. 0.]\n",
            " [0. 0. 0. 0. 0. 0. 0. 0. 0. 0.]\n",
            " [0. 0. 0. 0. 0. 0. 0. 0. 0. 0.]\n",
            " [0. 0. 0. 0. 0. 0. 0. 0. 0. 0.]\n",
            " [0. 0. 0. 0. 0. 0. 0. 0. 0. 0.]\n",
            " [0. 0. 0. 0. 0. 0. 0. 0. 0. 0.]\n",
            " [0. 0. 0. 0. 0. 0. 0. 0. 0. 0.]], shape=(10, 10), dtype=float32)\n",
            "[<tf.Variable 'my_dense_layer/kernel:0' shape=(5, 10) dtype=float32, numpy=\n",
            "array([[ 0.04251426, -0.34367457, -0.33987272, -0.39539674,  0.55485445,\n",
            "        -0.30297944,  0.21195811,  0.339792  , -0.5777545 ,  0.16114849],\n",
            "       [-0.56565154,  0.5968016 , -0.04391193,  0.42725414,  0.5004844 ,\n",
            "        -0.27212465, -0.06614321,  0.08520418,  0.40098685,  0.19749576],\n",
            "       [-0.63188344,  0.3573261 ,  0.60468346,  0.17102188, -0.062316  ,\n",
            "        -0.18814233, -0.40083164, -0.487683  , -0.44528878,  0.36336398],\n",
            "       [-0.55297035, -0.12520415,  0.01548606,  0.20579702, -0.13357717,\n",
            "         0.32532609,  0.48343033,  0.568036  ,  0.58355945,  0.20600092],\n",
            "       [-0.41161156, -0.43496516,  0.28445107,  0.00514084, -0.33982205,\n",
            "         0.56353647,  0.42214102, -0.3209253 ,  0.01600778, -0.02597946]],\n",
            "      dtype=float32)>]\n"
          ],
          "name": "stdout"
        }
      ]
    },
    {
      "cell_type": "code",
      "metadata": {
        "id": "cqbQevHhVOUa",
        "colab_type": "code",
        "colab": {
          "base_uri": "https://localhost:8080/",
          "height": 190
        },
        "outputId": "50db14de-5984-424c-fc73-b85955a9e8c5"
      },
      "source": [
        "class ResnetIdentityBlock(tf.keras.Model):\n",
        "  def __init__(self, kernel_size, filters):\n",
        "    super(ResnetIdentityBlock, self).__init__(name='')\n",
        "    filters1, filters2, filters3 = filters\n",
        "\n",
        "    self.conv2a = tf.keras.layers.Conv2D(filters1, (1, 1))\n",
        "    self.bn2a = tf.keras.layers.BatchNormalization()\n",
        "\n",
        "    self.conv2b = tf.keras.layers.Conv2D(filters2, kernel_size, padding='same')\n",
        "    self.bn2b = tf.keras.layers.BatchNormalization()\n",
        "\n",
        "    self.conv2c = tf.keras.layers.Conv2D(filters3, (1, 1))\n",
        "    self.bn2c = tf.keras.layers.BatchNormalization()\n",
        "\n",
        "  def call(self, input_tensor, training=False):\n",
        "    x = self.conv2a(input_tensor)\n",
        "    x = self.bn2a(x, training=training)\n",
        "    x = tf.nn.relu(x)\n",
        "\n",
        "    x = self.conv2b(x)\n",
        "    x = self.bn2b(x, training=training)\n",
        "    x = tf.nn.relu(x)\n",
        "\n",
        "    x = self.conv2c(x)\n",
        "    x = self.bn2c(x, training=training)\n",
        "\n",
        "    x += input_tensor\n",
        "    return tf.nn.relu(x)\n",
        "\n",
        "    \n",
        "block = ResnetIdentityBlock(1, [1, 2, 3])\n",
        "print(block(tf.zeros([1, 2, 3, 3])))\n",
        "print([x.name for x in block.trainable_variables])"
      ],
      "execution_count": null,
      "outputs": [
        {
          "output_type": "stream",
          "text": [
            "tf.Tensor(\n",
            "[[[[0. 0. 0.]\n",
            "   [0. 0. 0.]\n",
            "   [0. 0. 0.]]\n",
            "\n",
            "  [[0. 0. 0.]\n",
            "   [0. 0. 0.]\n",
            "   [0. 0. 0.]]]], shape=(1, 2, 3, 3), dtype=float32)\n",
            "['resnet_identity_block/conv2d/kernel:0', 'resnet_identity_block/conv2d/bias:0', 'resnet_identity_block/batch_normalization/gamma:0', 'resnet_identity_block/batch_normalization/beta:0', 'resnet_identity_block/conv2d_1/kernel:0', 'resnet_identity_block/conv2d_1/bias:0', 'resnet_identity_block/batch_normalization_1/gamma:0', 'resnet_identity_block/batch_normalization_1/beta:0', 'resnet_identity_block/conv2d_2/kernel:0', 'resnet_identity_block/conv2d_2/bias:0', 'resnet_identity_block/batch_normalization_2/gamma:0', 'resnet_identity_block/batch_normalization_2/beta:0']\n"
          ],
          "name": "stdout"
        }
      ]
    },
    {
      "cell_type": "code",
      "metadata": {
        "id": "BfrySePUVnW9",
        "colab_type": "code",
        "colab": {
          "base_uri": "https://localhost:8080/",
          "height": 153
        },
        "outputId": "5d838ec0-107a-4730-fbb7-020e31426124"
      },
      "source": [
        "my_seq = tf.keras.Sequential([tf.keras.layers.Conv2D(1, (1, 1), \n",
        "                                                    input_shape=(\n",
        "                                                        None, None, 3)),\n",
        "                             tf.keras.layers.BatchNormalization(),\n",
        "                             tf.keras.layers.Conv2D(2, 1,\n",
        "                                                    padding='same'),\n",
        "                             tf.keras.layers.BatchNormalization(),\n",
        "                             tf.keras.layers.Conv2D(3, (1, 1)),\n",
        "                             tf.keras.layers.BatchNormalization()])\n",
        "my_seq(tf.zeros([1, 2, 3, 3]))"
      ],
      "execution_count": null,
      "outputs": [
        {
          "output_type": "execute_result",
          "data": {
            "text/plain": [
              "<tf.Tensor: shape=(1, 2, 3, 3), dtype=float32, numpy=\n",
              "array([[[[0., 0., 0.],\n",
              "         [0., 0., 0.],\n",
              "         [0., 0., 0.]],\n",
              "\n",
              "        [[0., 0., 0.],\n",
              "         [0., 0., 0.],\n",
              "         [0., 0., 0.]]]], dtype=float32)>"
            ]
          },
          "metadata": {
            "tags": []
          },
          "execution_count": 15
        }
      ]
    }
  ]
}